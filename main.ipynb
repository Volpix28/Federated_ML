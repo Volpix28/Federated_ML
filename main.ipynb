{
 "cells": [
  {
   "cell_type": "code",
   "execution_count": null,
   "metadata": {},
   "outputs": [],
   "source": [
    "# Jupyter notebook magic to reload modules\n",
    "%load_ext autoreload\n",
    "%autoreload 2"
   ]
  },
  {
   "cell_type": "code",
   "execution_count": 48,
   "metadata": {},
   "outputs": [],
   "source": [
    "from model_utils import load_model, save_model, set_model_weights\n",
    "from data_utils import load_client_data, load_dataset, load_dataloader\n",
    "from federated_utils import federated_averaging, train_on_clients\n",
    "import copy\n",
    "import os"
   ]
  },
  {
   "cell_type": "code",
   "execution_count": 45,
   "metadata": {},
   "outputs": [],
   "source": [
    "\n",
    "train_dataloader, val_dataloader = load_dataset(classes=[\n",
    "    0, # T-shirt/top\n",
    "    1, # Trouser\n",
    "    3, # Dress\n",
    "], samples_per_class=1000)"
   ]
  },
  {
   "cell_type": "code",
   "execution_count": 71,
   "metadata": {},
   "outputs": [
    {
     "name": "stdout",
     "output_type": "stream",
     "text": [
      "Loaded 3000 training examples\n"
     ]
    }
   ],
   "source": [
    "samples_count = sum([len(data) for data, _ in train_dataloader])\n",
    "print(f\"Loaded {samples_count} training examples\")"
   ]
  },
  {
   "cell_type": "code",
   "execution_count": null,
   "metadata": {},
   "outputs": [],
   "source": [
    "def run_federated_learning_experiment(num_clients, num_rounds, local_epochs, model_path, save_path_prefix, ml_aggregation_method):\n",
    "    samples_per_node = samples_count // num_clients\n",
    "    \n",
    "    # Load initial model\n",
    "    global_model = load_model(model_path)\n",
    "    global_train_dataset, global_val_dataset = load_dataset(classes=[\n",
    "        0, # T-shirt/top\n",
    "        1, # Trouser\n",
    "        3, # Dress\n",
    "    ], samples_per_class=1000)\n",
    "\n",
    "    # Load client models and data\n",
    "    client_models = [copy.deepcopy(global_model) for _ in range(num_clients)]\n",
    "    client_data = [load_dataloader(global_train_dataset, global_val_dataset, client_id=i, num_samples=samples_per_node) for i in range(num_clients)]\n",
    "\n",
    "    for round_num in range(num_rounds):\n",
    "        print(f\"Round {round_num + 1}/{num_rounds}\")\n",
    "        train_on_clients(client_models, client_data, local_epochs)\n",
    "\n",
    "        if ml_aggregation_method == \"fedavg\":\n",
    "            averaged_weights = federated_averaging(client_models)\n",
    "        else:\n",
    "            raise NotImplementedError(f\"Aggregation method {ml_aggregation_method} not implemented\")\n",
    "\n",
    "        set_model_weights(global_model, averaged_weights)\n",
    "\n",
    "        # evaluate - what KPI´s do we want?\n",
    "\n",
    "        for client_model in client_models:\n",
    "            set_model_weights(client_model, averaged_weights)\n",
    "\n",
    "    # Save the final model\n",
    "    save_path = f\"{save_path_prefix}_clients{num_clients}_rounds{num_rounds}_epochs{local_epochs}.h5\"\n",
    "    save_model(global_model, save_path)\n",
    "    print(f\"Saved model to {save_path}\")"
   ]
  },
  {
   "cell_type": "markdown",
   "metadata": {},
   "source": [
    "# config"
   ]
  },
  {
   "cell_type": "code",
   "execution_count": null,
   "metadata": {},
   "outputs": [],
   "source": [
    "node_range = range(2, 11)  # 2 to 10 nodes\n",
    "local_epoch_range = range(1, 11)  # 1 to 10 local epochs\n",
    "global_epoch_range = range(1, 6)  # 1 to 5 global epochs"
   ]
  },
  {
   "cell_type": "code",
   "execution_count": 6,
   "metadata": {},
   "outputs": [],
   "source": [
    "\n",
    "model_folder = \"./models\"\n",
    "model_filename = \"your_model_file\"\n",
    "model_path = os.path.join(model_folder, model_filename)\n",
    "save_path_prefix = \"./saved_models/model\"\n",
    "\n",
    "# Ensure the save directory exists\n",
    "os.makedirs(os.path.dirname(save_path_prefix), exist_ok=True)"
   ]
  },
  {
   "cell_type": "markdown",
   "metadata": {},
   "source": [
    "# run experiments"
   ]
  },
  {
   "cell_type": "code",
   "execution_count": null,
   "metadata": {},
   "outputs": [],
   "source": [
    "for num_clients in node_range:\n",
    "    for local_epochs in local_epoch_range:\n",
    "        for num_rounds in global_epoch_range:\n",
    "            print(f\"Running experiment with {num_clients} clients, {num_rounds} rounds, and {local_epochs} local epochs.\")\n",
    "            run_federated_learning_experiment(\n",
    "                num_clients=num_clients,\n",
    "                num_rounds=num_rounds,\n",
    "                local_epochs=local_epochs,\n",
    "                model_path='your_model_path',\n",
    "                save_path_prefix='path_to_save_final_model'\n",
    "            )"
   ]
  },
  {
   "cell_type": "code",
   "execution_count": null,
   "metadata": {},
   "outputs": [],
   "source": []
  },
  {
   "cell_type": "code",
   "execution_count": null,
   "metadata": {},
   "outputs": [],
   "source": []
  },
  {
   "cell_type": "code",
   "execution_count": null,
   "metadata": {},
   "outputs": [],
   "source": []
  },
  {
   "cell_type": "code",
   "execution_count": null,
   "metadata": {},
   "outputs": [],
   "source": []
  }
 ],
 "metadata": {
  "kernelspec": {
   "display_name": "classic",
   "language": "python",
   "name": "python3"
  },
  "language_info": {
   "codemirror_mode": {
    "name": "ipython",
    "version": 3
   },
   "file_extension": ".py",
   "mimetype": "text/x-python",
   "name": "python",
   "nbconvert_exporter": "python",
   "pygments_lexer": "ipython3",
   "version": "3.11.6"
  }
 },
 "nbformat": 4,
 "nbformat_minor": 2
}
